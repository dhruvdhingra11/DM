{
 "cells": [
  {
   "cell_type": "markdown",
   "id": "ccb5c7d2",
   "metadata": {},
   "source": [
    "## Q2\n",
    "Perform the following preprocessing tasks on the dirty_iris datasetii.<br>\n",
    "i) Calculate the number and percentage of observations that are complete.<br>\n",
    "ii) Replace all the special values in data with NA.<br>\n",
    "iii) Define these rules in a separate text file and read them.<br>\n",
    "(Use editfile function in R (package editrules). Use similar function in Python).<br>\n",
    "Print the resulting constraint object.<br>\n",
    "– Species should be one of the following values: setosa, versicolor or virginica.<br>\n",
    "– All measured numerical properties of an iris should be positive.<br>\n",
    "– The petal length of an iris is at least 2 times its petal width.<br>\n",
    "– The sepal length of an iris cannot exceed 30 cm.<br>\n",
    "– The sepals of an iris are longer than its petals.<br>\n",
    "iv)Determine how often each rule is broken (violatedEdits). Also summarize and plot the result.<br>\n",
    "v) Find outliers in sepal length using boxplot and boxplot.stats<br>"
   ]
  },
  {
   "cell_type": "code",
   "execution_count": 1,
   "id": "387af30c",
   "metadata": {},
   "outputs": [],
   "source": [
    "import pandas as pd\n",
    "import numpy as np\n",
    "import matplotlib.pyplot as plt\n",
    "import seaborn as sns"
   ]
  },
  {
   "cell_type": "code",
   "execution_count": 2,
   "id": "27e5144d",
   "metadata": {},
   "outputs": [],
   "source": [
    "iris = pd.read_csv('iris_dirty.csv')"
   ]
  },
  {
   "cell_type": "code",
   "execution_count": 3,
   "id": "1dc11f68",
   "metadata": {
    "scrolled": true
   },
   "outputs": [
    {
     "data": {
      "text/html": [
       "<div>\n",
       "<style scoped>\n",
       "    .dataframe tbody tr th:only-of-type {\n",
       "        vertical-align: middle;\n",
       "    }\n",
       "\n",
       "    .dataframe tbody tr th {\n",
       "        vertical-align: top;\n",
       "    }\n",
       "\n",
       "    .dataframe thead th {\n",
       "        text-align: right;\n",
       "    }\n",
       "</style>\n",
       "<table border=\"1\" class=\"dataframe\">\n",
       "  <thead>\n",
       "    <tr style=\"text-align: right;\">\n",
       "      <th></th>\n",
       "      <th>Unnamed: 0</th>\n",
       "      <th>Sepal.Length</th>\n",
       "      <th>Sepal.Width</th>\n",
       "      <th>Petal.Length</th>\n",
       "      <th>Petal.Width</th>\n",
       "      <th>Species</th>\n",
       "    </tr>\n",
       "  </thead>\n",
       "  <tbody>\n",
       "    <tr>\n",
       "      <th>0</th>\n",
       "      <td>1</td>\n",
       "      <td>5.1</td>\n",
       "      <td>3.5</td>\n",
       "      <td>1.4</td>\n",
       "      <td>0.2</td>\n",
       "      <td>Setosa</td>\n",
       "    </tr>\n",
       "    <tr>\n",
       "      <th>1</th>\n",
       "      <td>2</td>\n",
       "      <td>4.9</td>\n",
       "      <td>3.0</td>\n",
       "      <td>1.4</td>\n",
       "      <td>0.2</td>\n",
       "      <td>setosa</td>\n",
       "    </tr>\n",
       "    <tr>\n",
       "      <th>2</th>\n",
       "      <td>3</td>\n",
       "      <td>4.7</td>\n",
       "      <td>3.2</td>\n",
       "      <td>1.3</td>\n",
       "      <td>0.2</td>\n",
       "      <td>setosa</td>\n",
       "    </tr>\n",
       "    <tr>\n",
       "      <th>3</th>\n",
       "      <td>4</td>\n",
       "      <td>4.6</td>\n",
       "      <td>3.1</td>\n",
       "      <td>1.5</td>\n",
       "      <td>0.2</td>\n",
       "      <td>setosa</td>\n",
       "    </tr>\n",
       "    <tr>\n",
       "      <th>4</th>\n",
       "      <td>5</td>\n",
       "      <td>NaN</td>\n",
       "      <td>3.6</td>\n",
       "      <td>1.4</td>\n",
       "      <td>0.2</td>\n",
       "      <td>setosa</td>\n",
       "    </tr>\n",
       "  </tbody>\n",
       "</table>\n",
       "</div>"
      ],
      "text/plain": [
       "   Unnamed: 0  Sepal.Length  Sepal.Width  Petal.Length  Petal.Width Species\n",
       "0           1           5.1          3.5           1.4          0.2  Setosa\n",
       "1           2           4.9          3.0           1.4          0.2  setosa\n",
       "2           3           4.7          3.2           1.3          0.2  setosa\n",
       "3           4           4.6          3.1           1.5          0.2  setosa\n",
       "4           5           NaN          3.6           1.4          0.2  setosa"
      ]
     },
     "execution_count": 3,
     "metadata": {},
     "output_type": "execute_result"
    }
   ],
   "source": [
    " iris.head()"
   ]
  },
  {
   "cell_type": "markdown",
   "id": "a9e8acf6",
   "metadata": {},
   "source": [
    "1 - Calculate the number and percentage of observations that are complete."
   ]
  },
  {
   "cell_type": "code",
   "execution_count": 4,
   "id": "4a7b6494",
   "metadata": {},
   "outputs": [
    {
     "name": "stdout",
     "output_type": "stream",
     "text": [
      "Number of complete observations: 131\n",
      "Percentage of complete observations: 87.33333333333333\n"
     ]
    }
   ],
   "source": [
    "iris.rename(columns = {'Unnamed: 0':'ID'},inplace=True)\n",
    "\n",
    "n_complete_obs = iris.dropna().shape[0]\n",
    "pct_complete_obs = (n_complete_obs / iris.shape[0]) * 100\n",
    "print(\"Number of complete observations:\", n_complete_obs)\n",
    "print(\"Percentage of complete observations:\", pct_complete_obs)"
   ]
  },
  {
   "cell_type": "markdown",
   "id": "d98e6aa0",
   "metadata": {},
   "source": [
    "2 - Replace all the special values in data with NA."
   ]
  },
  {
   "cell_type": "code",
   "execution_count": 18,
   "id": "682654af",
   "metadata": {},
   "outputs": [
    {
     "data": {
      "text/html": [
       "<div>\n",
       "<style scoped>\n",
       "    .dataframe tbody tr th:only-of-type {\n",
       "        vertical-align: middle;\n",
       "    }\n",
       "\n",
       "    .dataframe tbody tr th {\n",
       "        vertical-align: top;\n",
       "    }\n",
       "\n",
       "    .dataframe thead th {\n",
       "        text-align: right;\n",
       "    }\n",
       "</style>\n",
       "<table border=\"1\" class=\"dataframe\">\n",
       "  <thead>\n",
       "    <tr style=\"text-align: right;\">\n",
       "      <th></th>\n",
       "      <th>ID</th>\n",
       "      <th>Sepal.Length</th>\n",
       "      <th>Sepal.Width</th>\n",
       "      <th>Petal.Length</th>\n",
       "      <th>Petal.Width</th>\n",
       "      <th>Species</th>\n",
       "    </tr>\n",
       "  </thead>\n",
       "  <tbody>\n",
       "    <tr>\n",
       "      <th>0</th>\n",
       "      <td>1</td>\n",
       "      <td>5.1</td>\n",
       "      <td>3.5</td>\n",
       "      <td>1.4</td>\n",
       "      <td>0.2</td>\n",
       "      <td>Setosa</td>\n",
       "    </tr>\n",
       "    <tr>\n",
       "      <th>1</th>\n",
       "      <td>2</td>\n",
       "      <td>4.9</td>\n",
       "      <td>3.0</td>\n",
       "      <td>1.4</td>\n",
       "      <td>0.2</td>\n",
       "      <td>setosa</td>\n",
       "    </tr>\n",
       "    <tr>\n",
       "      <th>2</th>\n",
       "      <td>3</td>\n",
       "      <td>4.7</td>\n",
       "      <td>3.2</td>\n",
       "      <td>1.3</td>\n",
       "      <td>0.2</td>\n",
       "      <td>setosa</td>\n",
       "    </tr>\n",
       "    <tr>\n",
       "      <th>3</th>\n",
       "      <td>4</td>\n",
       "      <td>4.6</td>\n",
       "      <td>3.1</td>\n",
       "      <td>1.5</td>\n",
       "      <td>0.2</td>\n",
       "      <td>setosa</td>\n",
       "    </tr>\n",
       "    <tr>\n",
       "      <th>4</th>\n",
       "      <td>5</td>\n",
       "      <td>NaN</td>\n",
       "      <td>3.6</td>\n",
       "      <td>1.4</td>\n",
       "      <td>0.2</td>\n",
       "      <td>setosa</td>\n",
       "    </tr>\n",
       "  </tbody>\n",
       "</table>\n",
       "</div>"
      ],
      "text/plain": [
       "   ID  Sepal.Length  Sepal.Width  Petal.Length  Petal.Width Species\n",
       "0   1           5.1          3.5           1.4          0.2  Setosa\n",
       "1   2           4.9          3.0           1.4          0.2  setosa\n",
       "2   3           4.7          3.2           1.3          0.2  setosa\n",
       "3   4           4.6          3.1           1.5          0.2  setosa\n",
       "4   5           NaN          3.6           1.4          0.2  setosa"
      ]
     },
     "execution_count": 18,
     "metadata": {},
     "output_type": "execute_result"
    }
   ],
   "source": [
    "iris.replace(to_replace = \"[@_!#$%^&*()<>?/|}{~:]\",value=np.nan,regex=True)\n",
    "iris.head()"
   ]
  },
  {
   "cell_type": "markdown",
   "id": "af123103",
   "metadata": {},
   "source": [
    "3 Define these rules in a separate text file and read them.<br>\n",
    "Print the resulting constraint object.<br>\n",
    "– Species should be one of the following values: setosa, versicolor or virginica.<br>\n",
    "– All measured numerical properties of an iris should be positive.<br>\n",
    "– The petal length of an iris is at least 2 times its petal width.<br>\n",
    "– The sepal length of an iris cannot exceed 30 cm.<br>\n",
    "– The sepals of an iris are longer than its petals.<br>"
   ]
  },
  {
   "cell_type": "code",
   "execution_count": 42,
   "id": "ea206f6e",
   "metadata": {},
   "outputs": [],
   "source": [
    "v = [0,0,0,0,0]\n",
    "def check_rules(row):\n",
    "    species = row['Species']\n",
    "    Sleng = row['Sepal.Length']\n",
    "    Swid = row['Sepal.Width']\n",
    "    Pleng = row['Petal.Length']\n",
    "    Pwid = row['Petal.Width']\n",
    "    \n",
    "    if species not in ['setosa','versicolor','virginica']:\n",
    "        v[0]+=1\n",
    "        return True\n",
    "    \n",
    "    if Sleng<0 or Swid<0 or Pleng<0 or Pwid<0 :\n",
    "        v[1]+=1\n",
    "        return True\n",
    "    \n",
    "    if Pleng<(2*Pwid): \n",
    "        v[2]+=1\n",
    "        return True\n",
    "    \n",
    "    if Sleng>30: \n",
    "        v[3]+=1\n",
    "        return True\n",
    "    \n",
    "    if Sleng<Pleng and Swid<Pwid:\n",
    "        v[4]+=1\n",
    "        return True\n",
    "    \n",
    "    return False\n",
    "\n",
    "violations = iris[iris.apply(check_rules,axis=1)]"
   ]
  },
  {
   "cell_type": "markdown",
   "id": "3d15523b",
   "metadata": {},
   "source": [
    "iv) Determine how often each rule is broken (violatedEdits)."
   ]
  },
  {
   "cell_type": "code",
   "execution_count": 43,
   "id": "95dbb8c7",
   "metadata": {},
   "outputs": [
    {
     "name": "stdout",
     "output_type": "stream",
     "text": [
      "[5, 0, 0, 0, 0]\n"
     ]
    },
    {
     "data": {
      "text/html": [
       "<div>\n",
       "<style scoped>\n",
       "    .dataframe tbody tr th:only-of-type {\n",
       "        vertical-align: middle;\n",
       "    }\n",
       "\n",
       "    .dataframe tbody tr th {\n",
       "        vertical-align: top;\n",
       "    }\n",
       "\n",
       "    .dataframe thead th {\n",
       "        text-align: right;\n",
       "    }\n",
       "</style>\n",
       "<table border=\"1\" class=\"dataframe\">\n",
       "  <thead>\n",
       "    <tr style=\"text-align: right;\">\n",
       "      <th></th>\n",
       "      <th>ID</th>\n",
       "      <th>Sepal.Length</th>\n",
       "      <th>Sepal.Width</th>\n",
       "      <th>Petal.Length</th>\n",
       "      <th>Petal.Width</th>\n",
       "      <th>Species</th>\n",
       "    </tr>\n",
       "  </thead>\n",
       "  <tbody>\n",
       "    <tr>\n",
       "      <th>0</th>\n",
       "      <td>1</td>\n",
       "      <td>5.1</td>\n",
       "      <td>3.5</td>\n",
       "      <td>1.4</td>\n",
       "      <td>0.2</td>\n",
       "      <td>Setosa</td>\n",
       "    </tr>\n",
       "    <tr>\n",
       "      <th>7</th>\n",
       "      <td>8</td>\n",
       "      <td>5.0</td>\n",
       "      <td>3.4</td>\n",
       "      <td>1.5</td>\n",
       "      <td>0.2</td>\n",
       "      <td>SETOSA</td>\n",
       "    </tr>\n",
       "    <tr>\n",
       "      <th>58</th>\n",
       "      <td>59</td>\n",
       "      <td>6.6</td>\n",
       "      <td>2.9</td>\n",
       "      <td>4.6</td>\n",
       "      <td>1.3</td>\n",
       "      <td>Versicolor</td>\n",
       "    </tr>\n",
       "    <tr>\n",
       "      <th>63</th>\n",
       "      <td>64</td>\n",
       "      <td>6.1</td>\n",
       "      <td>2.9</td>\n",
       "      <td>4.7</td>\n",
       "      <td>1.4</td>\n",
       "      <td>VERSICOLOR</td>\n",
       "    </tr>\n",
       "    <tr>\n",
       "      <th>107</th>\n",
       "      <td>108</td>\n",
       "      <td>7.3</td>\n",
       "      <td>2.9</td>\n",
       "      <td>6.3</td>\n",
       "      <td>1.8</td>\n",
       "      <td>VIRGINICA</td>\n",
       "    </tr>\n",
       "  </tbody>\n",
       "</table>\n",
       "</div>"
      ],
      "text/plain": [
       "      ID  Sepal.Length  Sepal.Width  Petal.Length  Petal.Width     Species\n",
       "0      1           5.1          3.5           1.4          0.2      Setosa\n",
       "7      8           5.0          3.4           1.5          0.2      SETOSA\n",
       "58    59           6.6          2.9           4.6          1.3  Versicolor\n",
       "63    64           6.1          2.9           4.7          1.4  VERSICOLOR\n",
       "107  108           7.3          2.9           6.3          1.8   VIRGINICA"
      ]
     },
     "execution_count": 43,
     "metadata": {},
     "output_type": "execute_result"
    }
   ],
   "source": [
    "\n",
    "print(v)\n",
    "violations"
   ]
  },
  {
   "cell_type": "code",
   "execution_count": 44,
   "id": "37f5e8b5",
   "metadata": {},
   "outputs": [
    {
     "data": {
      "text/plain": [
       "<BarContainer object of 5 artists>"
      ]
     },
     "execution_count": 44,
     "metadata": {},
     "output_type": "execute_result"
    },
    {
     "data": {
      "image/png": "[encoded data removed]",
      "text/plain": [
       "<Figure size 432x288 with 1 Axes>"
      ]
     },
     "metadata": {
      "needs_background": "light"
     },
     "output_type": "display_data"
    }
   ],
   "source": [
    "#Also summarize and plot the result.\n",
    "plt.bar([1,2,3,4,5],v)"
   ]
  },
  {
   "cell_type": "markdown",
   "id": "c57f2866",
   "metadata": {},
   "source": [
    "v) Find outliers in sepal length using boxplot and boxplot.stats"
   ]
  },
  {
   "cell_type": "code",
   "execution_count": 19,
   "id": "87977905",
   "metadata": {},
   "outputs": [
    {
     "data": {
      "text/plain": [
       "<AxesSubplot:>"
      ]
     },
     "execution_count": 19,
     "metadata": {},
     "output_type": "execute_result"
    },
    {
     "data": {
      "image/png": "[encoded data removed]",
      "text/plain": [
       "<Figure size 432x288 with 1 Axes>"
      ]
     },
     "metadata": {
      "needs_background": "light"
     },
     "output_type": "display_data"
    }
   ],
   "source": [
    "sns.boxplot(data=iris['Sepal.Length'])"
   ]
  }
 ],
 "metadata": {
  "kernelspec": {
   "display_name": "Python 3 (ipykernel)",
   "language": "python",
   "name": "python3"
  },
  "language_info": {
   "codemirror_mode": {
    "name": "ipython",
    "version": 3
   },
   "file_extension": ".py",
   "mimetype": "text/x-python",
   "name": "python",
   "nbconvert_exporter": "python",
   "pygments_lexer": "ipython3",
   "version": "3.9.7"
  }
 },
 "nbformat": 4,
 "nbformat_minor": 5
}
