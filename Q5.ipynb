{
 "cells": [
  {
   "cell_type": "markdown",
   "id": "dec10c62",
   "metadata": {},
   "source": [
    "# Q5\n",
    "Use Naive bayes, K-nearest, and Decision tree classification algorithms and build classifiers.<br>\n",
    "Divide the data set into training and test set. Compare the accuracy of the different classifiers under the following situations:<br>\n",
    "5.1 a) Training set = 75% Test set = 25% b) Training set = 66.6% (2/3rd of total), Test set = 33.3%<br>\n",
    "5.2 Training set is chosen by i) hold out method ii) Random subsampling iii) Cross-Validation.<br>\n",
    "Compare the accuracy of the classifiers obtained.<br>\n",
    "5.3 Data is scaled to standard format.<br>"
   ]
  },
  {
   "cell_type": "code",
   "execution_count": 63,
   "id": "fe73a418",
   "metadata": {},
   "outputs": [],
   "source": [
    "import pandas as pd\n",
    "import numpy as np"
   ]
  },
  {
   "cell_type": "code",
   "execution_count": 79,
   "id": "1af9afaa",
   "metadata": {},
   "outputs": [],
   "source": [
    "import sklearn.datasets\n",
    "from sklearn.datasets import load_iris\n",
    "from sklearn.model_selection import train_test_split\n",
    "import sklearn.naive_bayes\n",
    "import sklearn.tree\n",
    "import sklearn.neighbors\n",
    "import sklearn.metrics\n",
    "from sklearn.model_selection import KFold,cross_val_score\n",
    "from sklearn.preprocessing import StandardScaler"
   ]
  },
  {
   "cell_type": "markdown",
   "id": "b4fd1b6f",
   "metadata": {},
   "source": [
    "# 5.1 - A) Test Size  = 25%"
   ]
  },
  {
   "cell_type": "code",
   "execution_count": 65,
   "id": "4d49312c",
   "metadata": {},
   "outputs": [],
   "source": [
    "iris = sklearn.datasets.load_iris()"
   ]
  },
  {
   "cell_type": "code",
   "execution_count": 66,
   "id": "2c024b0e",
   "metadata": {},
   "outputs": [],
   "source": [
    "X_train,X_test,y_train,y_test =\n",
    "train_test_split(iris.data,iris.target,test_size = 0.25,random_state=0)"
   ]
  },
  {
   "cell_type": "code",
   "execution_count": 67,
   "id": "9dd27a63",
   "metadata": {},
   "outputs": [
    {
     "data": {
      "text/plain": [
       "0.9736842105263158"
      ]
     },
     "execution_count": 67,
     "metadata": {},
     "output_type": "execute_result"
    }
   ],
   "source": [
    "#decision tree\n",
    "model1 = sklearn.tree.DecisionTreeClassifier(random_state=0)\n",
    "model1.fit(X_train,y_train)\n",
    "y_pred_1 = model1.predict(X_test)\n",
    "sklearn.metrics.accuracy_score(y_test,y_pred_1)"
   ]
  },
  {
   "cell_type": "code",
   "execution_count": 68,
   "id": "d0240fd9",
   "metadata": {},
   "outputs": [
    {
     "data": {
      "text/plain": [
       "0.9736842105263158"
      ]
     },
     "execution_count": 68,
     "metadata": {},
     "output_type": "execute_result"
    }
   ],
   "source": [
    "#knn\n",
    "model2 = sklearn.neighbors.KNeighborsClassifier()\n",
    "model2.fit(X_train,y_train)\n",
    "y_pred2 = model2.predict(X_test)\n",
    "sklearn.metrics.accuracy_score(y_test,y_pred2)"
   ]
  },
  {
   "cell_type": "code",
   "execution_count": 69,
   "id": "0611a030",
   "metadata": {},
   "outputs": [
    {
     "data": {
      "text/plain": [
       "1.0"
      ]
     },
     "execution_count": 69,
     "metadata": {},
     "output_type": "execute_result"
    }
   ],
   "source": [
    "#NB\n",
    "model3 = sklearn.naive_bayes.GaussianNB()\n",
    "model3.fit(X_train,y_train)\n",
    "y_pred3 = model3.predict(X_test)\n",
    "sklearn.metrics.accuracy_score(y_test,y_pred3)"
   ]
  },
  {
   "cell_type": "markdown",
   "id": "cae4ee46",
   "metadata": {},
   "source": [
    "# 5.1 - B) Test Size = 33%"
   ]
  },
  {
   "cell_type": "code",
   "execution_count": 70,
   "id": "4c258404",
   "metadata": {},
   "outputs": [],
   "source": [
    "#b) \n",
    "iris = sklearn.datasets.load_iris()"
   ]
  },
  {
   "cell_type": "code",
   "execution_count": 71,
   "id": "3521f5f1",
   "metadata": {},
   "outputs": [],
   "source": [
    "x_train,x_test,y_train,y_test \n",
    "= train_test_split(iris.data,iris.target,test_size=0.33,random_state=2)"
   ]
  },
  {
   "cell_type": "code",
   "execution_count": 72,
   "id": "110f5c11",
   "metadata": {},
   "outputs": [
    {
     "data": {
      "text/plain": [
       "0.96"
      ]
     },
     "execution_count": 72,
     "metadata": {},
     "output_type": "execute_result"
    }
   ],
   "source": [
    "#DT\n",
    "model1 = sklearn.tree.DecisionTreeClassifier()\n",
    "model1.fit(x_train,y_train)\n",
    "yp1 = model1.predict(x_test)\n",
    "sklearn.metrics.accuracy_score(y_test,yp1)"
   ]
  },
  {
   "cell_type": "code",
   "execution_count": 73,
   "id": "6db4df52",
   "metadata": {},
   "outputs": [
    {
     "data": {
      "text/plain": [
       "1.0"
      ]
     },
     "execution_count": 73,
     "metadata": {},
     "output_type": "execute_result"
    }
   ],
   "source": [
    "#KNN\n",
    "model2 = sklearn.neighbors.KNeighborsClassifier()\n",
    "model2.fit(x_train,y_train)\n",
    "yp2 = model2.predict(x_test)\n",
    "sklearn.metrics.accuracy_score(y_test,yp2)"
   ]
  },
  {
   "cell_type": "code",
   "execution_count": 74,
   "id": "6f3f7a4e",
   "metadata": {},
   "outputs": [
    {
     "data": {
      "text/plain": [
       "0.96"
      ]
     },
     "execution_count": 74,
     "metadata": {},
     "output_type": "execute_result"
    }
   ],
   "source": [
    "#NB\n",
    "model3 = sklearn.naive_bayes.GaussianNB()\n",
    "model3.fit(x_train,y_train)\n",
    "yp3 = model3.predict(x_test)\n",
    "sklearn.metrics.accuracy_score(y_test,yp3)"
   ]
  },
  {
   "cell_type": "markdown",
   "id": "f2f1bc4e",
   "metadata": {},
   "source": [
    "## 5.2 - i) same as 5.1-a,b"
   ]
  },
  {
   "cell_type": "markdown",
   "id": "d34d42d0",
   "metadata": {},
   "source": [
    "## 5.2 - ii) Random Subsampling"
   ]
  },
  {
   "cell_type": "code",
   "execution_count": 75,
   "id": "453c58d0",
   "metadata": {},
   "outputs": [],
   "source": [
    "model1Acc, model2Acc, model3Acc = 0,0,0"
   ]
  },
  {
   "cell_type": "code",
   "execution_count": 76,
   "id": "370fff96",
   "metadata": {},
   "outputs": [],
   "source": [
    "for i in range(10):\n",
    "    x_train,x_test,y_train,y_test\n",
    "    = train_test_split(iris.data,iris.target,test_size=0.25)\n",
    "    \n",
    "    dt = sklearn.tree.DecisionTreeClassifier()\n",
    "    dt.fit(x_train,y_train)\n",
    "    p1 = dt.predict(x_test)\n",
    "    model1Acc = model1Acc + sklearn.metrics.accuracy_score(y_test,p1)\n",
    "    \n",
    "    knn = sklearn.neighbors.KNeighborsClassifier()\n",
    "    knn.fit(x_train,y_train)\n",
    "    p2 = knn.predict(x_test)\n",
    "    model2Acc = model2Acc + sklearn.metrics.accuracy_score(y_test,p2)\n",
    "    \n",
    "    nb = sklearn.naive_bayes.GaussianNB()\n",
    "    nb.fit(x_train,y_train)\n",
    "    p3 = nb.predict(x_test)\n",
    "    model3Acc = model3Acc + sklearn.metrics.accuracy_score(y_test,p3)\n",
    "\n",
    "model1Acc = model1Acc/11\n",
    "model2Acc = model2Acc/11\n",
    "model3Acc = model3Acc/11"
   ]
  },
  {
   "cell_type": "code",
   "execution_count": 77,
   "id": "6e89ce78",
   "metadata": {},
   "outputs": [
    {
     "name": "stdout",
     "output_type": "stream",
     "text": [
      "Decision Tree Accuracy 0.8540669856459331\n",
      "K Nearest Neighbour 0.8779904306220095\n",
      "Naive Bayes Accuracy 0.8779904306220095\n"
     ]
    }
   ],
   "source": [
    "print(\"Decision Tree Accuracy\" , model1Acc)\n",
    "print(\"K Nearest Neighbour\" , model2Acc)\n",
    "print(\"Naive Bayes Accuracy\" , model2Acc)"
   ]
  },
  {
   "cell_type": "markdown",
   "id": "f8374703",
   "metadata": {},
   "source": [
    "## 5.2 iii) - Cross Validation"
   ]
  },
  {
   "cell_type": "code",
   "execution_count": 78,
   "id": "e2a5e8d7",
   "metadata": {
    "scrolled": true
   },
   "outputs": [
    {
     "name": "stdout",
     "output_type": "stream",
     "text": [
      "knn scores are 0.9333333333333333\n",
      "decision tree scores are 0.9466666666666667\n",
      "Naive Bayes scores are 0.9466666666666667\n"
     ]
    }
   ],
   "source": [
    "kfolds = KFold(n_splits=10)\n",
    "\n",
    "knn_scores = cross_val_score(knn,iris.data,iris.target,cv=kfolds)\n",
    "dt_scores = cross_val_score(dt,iris.data,iris.target,cv=kfolds)\n",
    "nb_scores = cross_val_score(nb,iris.data,iris.target,cv=kfolds)\n",
    "\n",
    "print(\"knn scores are\", knn_scores.mean())\n",
    "print(\"decision tree scores are\", dt_scores.mean())\n",
    "print(\"Naive Bayes scores are\", nb_scores.mean())"
   ]
  },
  {
   "cell_type": "markdown",
   "id": "79e83d6e",
   "metadata": {},
   "source": [
    "# 5.3"
   ]
  },
  {
   "cell_type": "code",
   "execution_count": 86,
   "id": "27bad508",
   "metadata": {},
   "outputs": [],
   "source": [
    "scaler = StandardScaler()\n",
    "iris = scaler.fit_transform(iris.data)"
   ]
  },
  {
   "cell_type": "code",
   "execution_count": null,
   "id": "94fb2b94",
   "metadata": {},
   "outputs": [],
   "source": []
  }
 ],
 "metadata": {
  "kernelspec": {
   "display_name": "Python 3 (ipykernel)",
   "language": "python",
   "name": "python3"
  },
  "language_info": {
   "codemirror_mode": {
    "name": "ipython",
    "version": 3
   },
   "file_extension": ".py",
   "mimetype": "text/x-python",
   "name": "python",
   "nbconvert_exporter": "python",
   "pygments_lexer": "ipython3",
   "version": "3.9.7"
  }
 },
 "nbformat": 4,
 "nbformat_minor": 5
}
